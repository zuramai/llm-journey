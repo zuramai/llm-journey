{
 "cells": [
  {
   "cell_type": "code",
   "execution_count": 1,
   "metadata": {},
   "outputs": [
    {
     "name": "stdout",
     "output_type": "stream",
     "text": [
      "Original array: [10. 15.  8. 12. 20.]\n",
      "Mean: 13.0\n",
      "Standard Deviation: 4.1952353926806065\n",
      "---\n",
      "Normalized array: [-0.71509674  0.47673116 -1.1918279  -0.23836558  1.66855906]\n",
      "Mean of normalized: 0.0\n",
      "Variance of normalized: 0.9999994318185044\n",
      "Std Dev of normalized: 0.9999997159092119\n"
     ]
    }
   ],
   "source": [
    "import numpy as np\n",
    "\n",
    "# Original array\n",
    "x = np.array([10.0, 15.0, 8.0, 12.0, 20.0])\n",
    "\n",
    "# Calculate mean and standard deviation\n",
    "mean = np.mean(x)\n",
    "std_dev = np.std(x) # Note: np.std calculates population std dev by default\n",
    "\n",
    "# Add a small epsilon for numerical stability (important in neural nets!)\n",
    "epsilon = 1e-5\n",
    "std_dev_stable = np.sqrt(np.var(x) + epsilon) # Or simply std_dev + epsilon if std_dev isn't zero\n",
    "\n",
    "# Normalize\n",
    "x_normalized = (x - mean) / std_dev_stable # Using std_dev_stable is closer to LayerNorm\n",
    "\n",
    "print(\"Original array:\", x)\n",
    "print(\"Mean:\", mean)\n",
    "print(\"Standard Deviation:\", std_dev)\n",
    "print(\"---\")\n",
    "print(\"Normalized array:\", x_normalized)\n",
    "print(\"Mean of normalized:\", np.mean(x_normalized))\n",
    "print(\"Variance of normalized:\", np.var(x_normalized))\n",
    "print(\"Std Dev of normalized:\", np.std(x_normalized))\n"
   ]
  },
  {
   "cell_type": "code",
   "execution_count": 16,
   "metadata": {},
   "outputs": [
    {
     "name": "stdout",
     "output_type": "stream",
     "text": [
      "Original shape: torch.Size([1, 3, 4])\n",
      "tensor([[[ 1,  2,  3,  4],\n",
      "         [ 5,  6,  7,  8],\n",
      "         [ 9, 10, 11, 12]]])\n",
      "\n",
      "After view to (1, 2, 3, 2):\n",
      "tensor([[[[ 1,  2],\n",
      "          [ 3,  4],\n",
      "          [ 5,  6]],\n",
      "\n",
      "         [[ 7,  8],\n",
      "          [ 9, 10],\n",
      "          [11, 12]]]])\n",
      "\n",
      "After transpose(1, 2):\n",
      "torch.Size([1, 3, 2, 2])\n",
      "tensor([[[[ 1,  2],\n",
      "          [ 7,  8]],\n",
      "\n",
      "         [[ 3,  4],\n",
      "          [ 9, 10]],\n",
      "\n",
      "         [[ 5,  6],\n",
      "          [11, 12]]]])\n",
      "\n",
      "Error: shape '[1, 2, 2, 2]' is invalid for input of size 12\n"
     ]
    }
   ],
   "source": [
    "import torch\n",
    "\n",
    "# Create a simple tensor with known values\n",
    "x = torch.tensor([[[1, 2, 3, 4],\n",
    "                   [5, 6, 7, 8],\n",
    "                   [9, 10, 11, 12]]])  # shape: (1, 2, 4)\n",
    "\n",
    "print(\"Original shape:\", x.shape)\n",
    "print(x)\n",
    "\n",
    "# First approach: view then transpose\n",
    "# View to (1, 2, 2, 2) then transpose dimensions 1 and 2\n",
    "v1 = x.view(1,2,3,2)\n",
    "print(\"\\nAfter view to (1, 2, 3, 2):\")\n",
    "print(v1)\n",
    "t1 = v1.transpose(1, 2)\n",
    "print(\"\\nAfter transpose(1, 2):\")\n",
    "print(t1.shape)\n",
    "print(t1)\n",
    "\n",
    "# Second approach: try to view directly to final shape\n",
    "# This will fail because tensors are stored in row-major order\n",
    "try:\n",
    "    v2 = x.view(1, 2, 2, 2).transpose(1, 2)\n",
    "    direct_view = x.reshape(1, 2, 2, 2)  # This will have different values than v2\n",
    "    print(\"\\nDirect reshape gives different values:\")\n",
    "    print(direct_view)\n",
    "    print(\"\\nCompare with correct result:\")\n",
    "    print(v2)\n",
    "except Exception as e:\n",
    "    print(\"\\nError:\", e)"
   ]
  },
  {
   "cell_type": "code",
   "execution_count": null,
   "metadata": {},
   "outputs": [],
   "source": []
  },
  {
   "cell_type": "markdown",
   "metadata": {},
   "source": []
  },
  {
   "cell_type": "code",
   "execution_count": null,
   "metadata": {},
   "outputs": [],
   "source": []
  }
 ],
 "metadata": {
  "kernelspec": {
   "display_name": ".venv",
   "language": "python",
   "name": "python3"
  },
  "language_info": {
   "codemirror_mode": {
    "name": "ipython",
    "version": 3
   },
   "file_extension": ".py",
   "mimetype": "text/x-python",
   "name": "python",
   "nbconvert_exporter": "python",
   "pygments_lexer": "ipython3",
   "version": "3.10.16"
  }
 },
 "nbformat": 4,
 "nbformat_minor": 2
}
